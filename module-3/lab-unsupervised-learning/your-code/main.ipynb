{
 "cells": [
  {
   "cell_type": "markdown",
   "metadata": {},
   "source": [
    "# Before your start:\n",
    "- Read the README.md file\n",
    "- Comment as much as you can and use the resources in the README.md file\n",
    "- Happy learning!"
   ]
  },
  {
   "cell_type": "code",
   "execution_count": 1,
   "metadata": {},
   "outputs": [],
   "source": [
    "# Import your libraries:\n",
    "\n",
    "%matplotlib inline\n",
    "\n",
    "import matplotlib.pyplot as plt\n",
    "import numpy as np\n",
    "import pandas as pd"
   ]
  },
  {
   "cell_type": "markdown",
   "metadata": {},
   "source": [
    "# Challenge 1 - Import and Describe the Dataset\n",
    "\n",
    "In this lab, we will use a dataset containing information about customer preferences. We will look at how much each customer spends in a year on each subcategory in the grocery store and try to find similarities using clustering.\n",
    "\n",
    "The origin of the dataset is [here](https://archive.ics.uci.edu/ml/datasets/wholesale+customers)."
   ]
  },
  {
   "cell_type": "code",
   "execution_count": 12,
   "metadata": {},
   "outputs": [],
   "source": [
    "# loading the data:\n",
    "customers = pd.read_csv('../Wholesale customers data.csv')"
   ]
  },
  {
   "cell_type": "markdown",
   "metadata": {},
   "source": [
    "#### Explore the dataset with mathematical and visualization techniques. What do you find?\n",
    "\n",
    "Checklist:\n",
    "\n",
    "* What does each column mean?\n",
    "* Any categorical data to convert?\n",
    "* Any missing data to remove?\n",
    "* Column collinearity - any high correlations?\n",
    "* Descriptive statistics - any outliers to remove?\n",
    "* Column-wise data distribution - is the distribution skewed?\n",
    "* Etc.\n",
    "\n",
    "Additional info: Over a century ago, an Italian economist named Vilfredo Pareto discovered that roughly 20% of the customers account for 80% of the typical retail sales. This is called the [Pareto principle](https://en.wikipedia.org/wiki/Pareto_principle). Check if this dataset displays this characteristic."
   ]
  },
  {
   "cell_type": "code",
   "execution_count": 73,
   "metadata": {},
   "outputs": [
    {
     "data": {
      "text/html": [
       "<div>\n",
       "<style scoped>\n",
       "    .dataframe tbody tr th:only-of-type {\n",
       "        vertical-align: middle;\n",
       "    }\n",
       "\n",
       "    .dataframe tbody tr th {\n",
       "        vertical-align: top;\n",
       "    }\n",
       "\n",
       "    .dataframe thead th {\n",
       "        text-align: right;\n",
       "    }\n",
       "</style>\n",
       "<table border=\"1\" class=\"dataframe\">\n",
       "  <thead>\n",
       "    <tr style=\"text-align: right;\">\n",
       "      <th></th>\n",
       "      <th>Channel</th>\n",
       "      <th>Region</th>\n",
       "      <th>Fresh</th>\n",
       "      <th>Milk</th>\n",
       "      <th>Grocery</th>\n",
       "      <th>Frozen</th>\n",
       "      <th>Detergents_Paper</th>\n",
       "      <th>Delicassen</th>\n",
       "    </tr>\n",
       "  </thead>\n",
       "  <tbody>\n",
       "    <tr>\n",
       "      <td>0</td>\n",
       "      <td>2</td>\n",
       "      <td>3</td>\n",
       "      <td>12669</td>\n",
       "      <td>9656</td>\n",
       "      <td>7561</td>\n",
       "      <td>214</td>\n",
       "      <td>2674</td>\n",
       "      <td>1338</td>\n",
       "    </tr>\n",
       "    <tr>\n",
       "      <td>1</td>\n",
       "      <td>2</td>\n",
       "      <td>3</td>\n",
       "      <td>7057</td>\n",
       "      <td>9810</td>\n",
       "      <td>9568</td>\n",
       "      <td>1762</td>\n",
       "      <td>3293</td>\n",
       "      <td>1776</td>\n",
       "    </tr>\n",
       "    <tr>\n",
       "      <td>2</td>\n",
       "      <td>2</td>\n",
       "      <td>3</td>\n",
       "      <td>6353</td>\n",
       "      <td>8808</td>\n",
       "      <td>7684</td>\n",
       "      <td>2405</td>\n",
       "      <td>3516</td>\n",
       "      <td>7844</td>\n",
       "    </tr>\n",
       "    <tr>\n",
       "      <td>3</td>\n",
       "      <td>1</td>\n",
       "      <td>3</td>\n",
       "      <td>13265</td>\n",
       "      <td>1196</td>\n",
       "      <td>4221</td>\n",
       "      <td>6404</td>\n",
       "      <td>507</td>\n",
       "      <td>1788</td>\n",
       "    </tr>\n",
       "    <tr>\n",
       "      <td>4</td>\n",
       "      <td>2</td>\n",
       "      <td>3</td>\n",
       "      <td>22615</td>\n",
       "      <td>5410</td>\n",
       "      <td>7198</td>\n",
       "      <td>3915</td>\n",
       "      <td>1777</td>\n",
       "      <td>5185</td>\n",
       "    </tr>\n",
       "  </tbody>\n",
       "</table>\n",
       "</div>"
      ],
      "text/plain": [
       "   Channel  Region  Fresh  Milk  Grocery  Frozen  Detergents_Paper  Delicassen\n",
       "0        2       3  12669  9656     7561     214              2674        1338\n",
       "1        2       3   7057  9810     9568    1762              3293        1776\n",
       "2        2       3   6353  8808     7684    2405              3516        7844\n",
       "3        1       3  13265  1196     4221    6404               507        1788\n",
       "4        2       3  22615  5410     7198    3915              1777        5185"
      ]
     },
     "execution_count": 73,
     "metadata": {},
     "output_type": "execute_result"
    }
   ],
   "source": [
    "# Your code here:\n",
    "customers.head()"
   ]
  },
  {
   "cell_type": "code",
   "execution_count": 76,
   "metadata": {},
   "outputs": [
    {
     "data": {
      "text/plain": [
       "(440, 8)"
      ]
     },
     "execution_count": 76,
     "metadata": {},
     "output_type": "execute_result"
    }
   ],
   "source": [
    "customers.shape"
   ]
  },
  {
   "cell_type": "code",
   "execution_count": 75,
   "metadata": {},
   "outputs": [
    {
     "data": {
      "text/html": [
       "<div>\n",
       "<style scoped>\n",
       "    .dataframe tbody tr th:only-of-type {\n",
       "        vertical-align: middle;\n",
       "    }\n",
       "\n",
       "    .dataframe tbody tr th {\n",
       "        vertical-align: top;\n",
       "    }\n",
       "\n",
       "    .dataframe thead th {\n",
       "        text-align: right;\n",
       "    }\n",
       "</style>\n",
       "<table border=\"1\" class=\"dataframe\">\n",
       "  <thead>\n",
       "    <tr style=\"text-align: right;\">\n",
       "      <th></th>\n",
       "      <th>Channel</th>\n",
       "      <th>Region</th>\n",
       "      <th>Fresh</th>\n",
       "      <th>Milk</th>\n",
       "      <th>Grocery</th>\n",
       "      <th>Frozen</th>\n",
       "      <th>Detergents_Paper</th>\n",
       "      <th>Delicassen</th>\n",
       "    </tr>\n",
       "  </thead>\n",
       "  <tbody>\n",
       "    <tr>\n",
       "      <td>count</td>\n",
       "      <td>440.000000</td>\n",
       "      <td>440.000000</td>\n",
       "      <td>440.000000</td>\n",
       "      <td>440.000000</td>\n",
       "      <td>440.000000</td>\n",
       "      <td>440.000000</td>\n",
       "      <td>440.000000</td>\n",
       "      <td>440.000000</td>\n",
       "    </tr>\n",
       "    <tr>\n",
       "      <td>mean</td>\n",
       "      <td>1.322727</td>\n",
       "      <td>2.543182</td>\n",
       "      <td>12000.297727</td>\n",
       "      <td>5796.265909</td>\n",
       "      <td>7951.277273</td>\n",
       "      <td>3071.931818</td>\n",
       "      <td>2881.493182</td>\n",
       "      <td>1524.870455</td>\n",
       "    </tr>\n",
       "    <tr>\n",
       "      <td>std</td>\n",
       "      <td>0.468052</td>\n",
       "      <td>0.774272</td>\n",
       "      <td>12647.328865</td>\n",
       "      <td>7380.377175</td>\n",
       "      <td>9503.162829</td>\n",
       "      <td>4854.673333</td>\n",
       "      <td>4767.854448</td>\n",
       "      <td>2820.105937</td>\n",
       "    </tr>\n",
       "    <tr>\n",
       "      <td>min</td>\n",
       "      <td>1.000000</td>\n",
       "      <td>1.000000</td>\n",
       "      <td>3.000000</td>\n",
       "      <td>55.000000</td>\n",
       "      <td>3.000000</td>\n",
       "      <td>25.000000</td>\n",
       "      <td>3.000000</td>\n",
       "      <td>3.000000</td>\n",
       "    </tr>\n",
       "    <tr>\n",
       "      <td>25%</td>\n",
       "      <td>1.000000</td>\n",
       "      <td>2.000000</td>\n",
       "      <td>3127.750000</td>\n",
       "      <td>1533.000000</td>\n",
       "      <td>2153.000000</td>\n",
       "      <td>742.250000</td>\n",
       "      <td>256.750000</td>\n",
       "      <td>408.250000</td>\n",
       "    </tr>\n",
       "    <tr>\n",
       "      <td>50%</td>\n",
       "      <td>1.000000</td>\n",
       "      <td>3.000000</td>\n",
       "      <td>8504.000000</td>\n",
       "      <td>3627.000000</td>\n",
       "      <td>4755.500000</td>\n",
       "      <td>1526.000000</td>\n",
       "      <td>816.500000</td>\n",
       "      <td>965.500000</td>\n",
       "    </tr>\n",
       "    <tr>\n",
       "      <td>75%</td>\n",
       "      <td>2.000000</td>\n",
       "      <td>3.000000</td>\n",
       "      <td>16933.750000</td>\n",
       "      <td>7190.250000</td>\n",
       "      <td>10655.750000</td>\n",
       "      <td>3554.250000</td>\n",
       "      <td>3922.000000</td>\n",
       "      <td>1820.250000</td>\n",
       "    </tr>\n",
       "    <tr>\n",
       "      <td>max</td>\n",
       "      <td>2.000000</td>\n",
       "      <td>3.000000</td>\n",
       "      <td>112151.000000</td>\n",
       "      <td>73498.000000</td>\n",
       "      <td>92780.000000</td>\n",
       "      <td>60869.000000</td>\n",
       "      <td>40827.000000</td>\n",
       "      <td>47943.000000</td>\n",
       "    </tr>\n",
       "  </tbody>\n",
       "</table>\n",
       "</div>"
      ],
      "text/plain": [
       "          Channel      Region          Fresh          Milk       Grocery  \\\n",
       "count  440.000000  440.000000     440.000000    440.000000    440.000000   \n",
       "mean     1.322727    2.543182   12000.297727   5796.265909   7951.277273   \n",
       "std      0.468052    0.774272   12647.328865   7380.377175   9503.162829   \n",
       "min      1.000000    1.000000       3.000000     55.000000      3.000000   \n",
       "25%      1.000000    2.000000    3127.750000   1533.000000   2153.000000   \n",
       "50%      1.000000    3.000000    8504.000000   3627.000000   4755.500000   \n",
       "75%      2.000000    3.000000   16933.750000   7190.250000  10655.750000   \n",
       "max      2.000000    3.000000  112151.000000  73498.000000  92780.000000   \n",
       "\n",
       "             Frozen  Detergents_Paper    Delicassen  \n",
       "count    440.000000        440.000000    440.000000  \n",
       "mean    3071.931818       2881.493182   1524.870455  \n",
       "std     4854.673333       4767.854448   2820.105937  \n",
       "min       25.000000          3.000000      3.000000  \n",
       "25%      742.250000        256.750000    408.250000  \n",
       "50%     1526.000000        816.500000    965.500000  \n",
       "75%     3554.250000       3922.000000   1820.250000  \n",
       "max    60869.000000      40827.000000  47943.000000  "
      ]
     },
     "execution_count": 75,
     "metadata": {},
     "output_type": "execute_result"
    }
   ],
   "source": [
    "customers.describe()"
   ]
  },
  {
   "cell_type": "code",
   "execution_count": 14,
   "metadata": {},
   "outputs": [
    {
     "data": {
      "text/plain": [
       "Channel             int64\n",
       "Region              int64\n",
       "Fresh               int64\n",
       "Milk                int64\n",
       "Grocery             int64\n",
       "Frozen              int64\n",
       "Detergents_Paper    int64\n",
       "Delicassen          int64\n",
       "dtype: object"
      ]
     },
     "execution_count": 14,
     "metadata": {},
     "output_type": "execute_result"
    }
   ],
   "source": [
    "customers.dtypes"
   ]
  },
  {
   "cell_type": "code",
   "execution_count": 21,
   "metadata": {},
   "outputs": [
    {
     "data": {
      "text/plain": [
       "Channel             0\n",
       "Region              0\n",
       "Fresh               0\n",
       "Milk                0\n",
       "Grocery             0\n",
       "Frozen              0\n",
       "Detergents_Paper    0\n",
       "Delicassen          0\n",
       "dtype: int64"
      ]
     },
     "execution_count": 21,
     "metadata": {},
     "output_type": "execute_result"
    }
   ],
   "source": [
    "customers.isnull().sum()"
   ]
  },
  {
   "cell_type": "code",
   "execution_count": 42,
   "metadata": {},
   "outputs": [],
   "source": [
    "#def outliers(x,constante):\n",
    "    #a = np.array(x)\n",
    "    #upper = np.percentile(a,75)\n",
    "    #lower = np.percentile(a,25)\n",
    "    #IQR = (upper-lower )*constante\n",
    "    #quartilset = (upper -IQR, lower+IQR)\n",
    "    #result = []\n",
    "    #for y in a.tolist():\n",
    "        #if y >= quartilset[0] and y <= quartilset[1]:\n",
    "            #result.append(y)\n",
    "        #return result"
   ]
  },
  {
   "cell_type": "code",
   "execution_count": 70,
   "metadata": {},
   "outputs": [
    {
     "data": {
      "text/plain": [
       "12000.297727272728"
      ]
     },
     "execution_count": 70,
     "metadata": {},
     "output_type": "execute_result"
    },
    {
     "data": {
      "image/png": "[encoded data removed]",
      "text/plain": [
       "<Figure size 1440x720 with 1 Axes>"
      ]
     },
     "metadata": {
      "needs_background": "light"
     },
     "output_type": "display_data"
    }
   ],
   "source": [
    "customers[\"Fresh\"].hist(bins=200, figsize=(20,10))\n",
    "customers[\"Fresh\"].mean()"
   ]
  },
  {
   "cell_type": "code",
   "execution_count": 88,
   "metadata": {},
   "outputs": [
    {
     "data": {
      "text/plain": [
       "9670     2\n",
       "3        2\n",
       "8040     2\n",
       "514      2\n",
       "18044    2\n",
       "        ..\n",
       "8885     1\n",
       "694      1\n",
       "7864     1\n",
       "1725     1\n",
       "4098     1\n",
       "Name: Fresh, Length: 433, dtype: int64"
      ]
     },
     "execution_count": 88,
     "metadata": {},
     "output_type": "execute_result"
    }
   ],
   "source": [
    "Fresh = customers['Fresh']\n",
    "Fresh.value_counts()"
   ]
  },
  {
   "cell_type": "code",
   "execution_count": 89,
   "metadata": {},
   "outputs": [
    {
     "ename": "AttributeError",
     "evalue": "'numpy.float64' object has no attribute 'value_counts'",
     "output_type": "error",
     "traceback": [
      "\u001b[0;31m---------------------------------------------------------------------------\u001b[0m",
      "\u001b[0;31mAttributeError\u001b[0m                            Traceback (most recent call last)",
      "\u001b[0;32m<ipython-input-89-3d9401c0bc74>\u001b[0m in \u001b[0;36m<module>\u001b[0;34m\u001b[0m\n\u001b[1;32m      1\u001b[0m \u001b[0mq98\u001b[0m \u001b[0;34m=\u001b[0m \u001b[0mFresh\u001b[0m\u001b[0;34m.\u001b[0m\u001b[0mquantile\u001b[0m\u001b[0;34m(\u001b[0m\u001b[0;36m0.95\u001b[0m\u001b[0;34m)\u001b[0m\u001b[0;34m\u001b[0m\u001b[0;34m\u001b[0m\u001b[0m\n\u001b[0;32m----> 2\u001b[0;31m \u001b[0mq98\u001b[0m\u001b[0;34m.\u001b[0m\u001b[0mvalue_counts\u001b[0m\u001b[0;34m(\u001b[0m\u001b[0;34m)\u001b[0m\u001b[0;34m\u001b[0m\u001b[0;34m\u001b[0m\u001b[0m\n\u001b[0m\u001b[1;32m      3\u001b[0m \u001b[0;34m\u001b[0m\u001b[0m\n",
      "\u001b[0;31mAttributeError\u001b[0m: 'numpy.float64' object has no attribute 'value_counts'"
     ]
    }
   ],
   "source": [
    "\n",
    "q98 = Fresh.quantile(0.95)\n",
    "q98\n",
    "\n"
   ]
  },
  {
   "cell_type": "code",
   "execution_count": 57,
   "metadata": {},
   "outputs": [
    {
     "data": {
      "text/html": [
       "<style  type=\"text/css\" >\n",
       "    #T_3f113a5c_e5f2_11e9_8c11_55ce79eb3376row0_col0 {\n",
       "            background-color:  #b40426;\n",
       "            color:  #f1f1f1;\n",
       "        }    #T_3f113a5c_e5f2_11e9_8c11_55ce79eb3376row0_col1 {\n",
       "            background-color:  #536edd;\n",
       "            color:  #000000;\n",
       "        }    #T_3f113a5c_e5f2_11e9_8c11_55ce79eb3376row0_col2 {\n",
       "            background-color:  #3b4cc0;\n",
       "            color:  #f1f1f1;\n",
       "        }    #T_3f113a5c_e5f2_11e9_8c11_55ce79eb3376row0_col3 {\n",
       "            background-color:  #cdd9ec;\n",
       "            color:  #000000;\n",
       "        }    #T_3f113a5c_e5f2_11e9_8c11_55ce79eb3376row0_col4 {\n",
       "            background-color:  #f4c5ad;\n",
       "            color:  #000000;\n",
       "        }    #T_3f113a5c_e5f2_11e9_8c11_55ce79eb3376row0_col5 {\n",
       "            background-color:  #3b4cc0;\n",
       "            color:  #f1f1f1;\n",
       "        }    #T_3f113a5c_e5f2_11e9_8c11_55ce79eb3376row0_col6 {\n",
       "            background-color:  #f7b497;\n",
       "            color:  #000000;\n",
       "        }    #T_3f113a5c_e5f2_11e9_8c11_55ce79eb3376row0_col7 {\n",
       "            background-color:  #3d50c3;\n",
       "            color:  #f1f1f1;\n",
       "        }    #T_3f113a5c_e5f2_11e9_8c11_55ce79eb3376row1_col0 {\n",
       "            background-color:  #82a6fb;\n",
       "            color:  #000000;\n",
       "        }    #T_3f113a5c_e5f2_11e9_8c11_55ce79eb3376row1_col1 {\n",
       "            background-color:  #b40426;\n",
       "            color:  #f1f1f1;\n",
       "        }    #T_3f113a5c_e5f2_11e9_8c11_55ce79eb3376row1_col2 {\n",
       "            background-color:  #799cf8;\n",
       "            color:  #000000;\n",
       "        }    #T_3f113a5c_e5f2_11e9_8c11_55ce79eb3376row1_col3 {\n",
       "            background-color:  #3b4cc0;\n",
       "            color:  #f1f1f1;\n",
       "        }    #T_3f113a5c_e5f2_11e9_8c11_55ce79eb3376row1_col4 {\n",
       "            background-color:  #485fd1;\n",
       "            color:  #f1f1f1;\n",
       "        }    #T_3f113a5c_e5f2_11e9_8c11_55ce79eb3376row1_col5 {\n",
       "            background-color:  #6a8bef;\n",
       "            color:  #000000;\n",
       "        }    #T_3f113a5c_e5f2_11e9_8c11_55ce79eb3376row1_col6 {\n",
       "            background-color:  #5e7de7;\n",
       "            color:  #000000;\n",
       "        }    #T_3f113a5c_e5f2_11e9_8c11_55ce79eb3376row1_col7 {\n",
       "            background-color:  #3b4cc0;\n",
       "            color:  #f1f1f1;\n",
       "        }    #T_3f113a5c_e5f2_11e9_8c11_55ce79eb3376row2_col0 {\n",
       "            background-color:  #4358cb;\n",
       "            color:  #f1f1f1;\n",
       "        }    #T_3f113a5c_e5f2_11e9_8c11_55ce79eb3376row2_col1 {\n",
       "            background-color:  #516ddb;\n",
       "            color:  #000000;\n",
       "        }    #T_3f113a5c_e5f2_11e9_8c11_55ce79eb3376row2_col2 {\n",
       "            background-color:  #b40426;\n",
       "            color:  #f1f1f1;\n",
       "        }    #T_3f113a5c_e5f2_11e9_8c11_55ce79eb3376row2_col3 {\n",
       "            background-color:  #506bda;\n",
       "            color:  #000000;\n",
       "        }    #T_3f113a5c_e5f2_11e9_8c11_55ce79eb3376row2_col4 {\n",
       "            background-color:  #4257c9;\n",
       "            color:  #f1f1f1;\n",
       "        }    #T_3f113a5c_e5f2_11e9_8c11_55ce79eb3376row2_col5 {\n",
       "            background-color:  #d1dae9;\n",
       "            color:  #000000;\n",
       "        }    #T_3f113a5c_e5f2_11e9_8c11_55ce79eb3376row2_col6 {\n",
       "            background-color:  #4257c9;\n",
       "            color:  #f1f1f1;\n",
       "        }    #T_3f113a5c_e5f2_11e9_8c11_55ce79eb3376row2_col7 {\n",
       "            background-color:  #7ea1fa;\n",
       "            color:  #000000;\n",
       "        }    #T_3f113a5c_e5f2_11e9_8c11_55ce79eb3376row3_col0 {\n",
       "            background-color:  #ead5c9;\n",
       "            color:  #000000;\n",
       "        }    #T_3f113a5c_e5f2_11e9_8c11_55ce79eb3376row3_col1 {\n",
       "            background-color:  #4a63d3;\n",
       "            color:  #f1f1f1;\n",
       "        }    #T_3f113a5c_e5f2_11e9_8c11_55ce79eb3376row3_col2 {\n",
       "            background-color:  #86a9fc;\n",
       "            color:  #000000;\n",
       "        }    #T_3f113a5c_e5f2_11e9_8c11_55ce79eb3376row3_col3 {\n",
       "            background-color:  #b40426;\n",
       "            color:  #f1f1f1;\n",
       "        }    #T_3f113a5c_e5f2_11e9_8c11_55ce79eb3376row3_col4 {\n",
       "            background-color:  #f59d7e;\n",
       "            color:  #000000;\n",
       "        }    #T_3f113a5c_e5f2_11e9_8c11_55ce79eb3376row3_col5 {\n",
       "            background-color:  #94b6ff;\n",
       "            color:  #000000;\n",
       "        }    #T_3f113a5c_e5f2_11e9_8c11_55ce79eb3376row3_col6 {\n",
       "            background-color:  #f7ac8e;\n",
       "            color:  #000000;\n",
       "        }    #T_3f113a5c_e5f2_11e9_8c11_55ce79eb3376row3_col7 {\n",
       "            background-color:  #b9d0f9;\n",
       "            color:  #000000;\n",
       "        }    #T_3f113a5c_e5f2_11e9_8c11_55ce79eb3376row4_col0 {\n",
       "            background-color:  #f7b599;\n",
       "            color:  #000000;\n",
       "        }    #T_3f113a5c_e5f2_11e9_8c11_55ce79eb3376row4_col1 {\n",
       "            background-color:  #4358cb;\n",
       "            color:  #f1f1f1;\n",
       "        }    #T_3f113a5c_e5f2_11e9_8c11_55ce79eb3376row4_col2 {\n",
       "            background-color:  #6485ec;\n",
       "            color:  #000000;\n",
       "        }    #T_3f113a5c_e5f2_11e9_8c11_55ce79eb3376row4_col3 {\n",
       "            background-color:  #f6a586;\n",
       "            color:  #000000;\n",
       "        }    #T_3f113a5c_e5f2_11e9_8c11_55ce79eb3376row4_col4 {\n",
       "            background-color:  #b40426;\n",
       "            color:  #f1f1f1;\n",
       "        }    #T_3f113a5c_e5f2_11e9_8c11_55ce79eb3376row4_col5 {\n",
       "            background-color:  #6485ec;\n",
       "            color:  #000000;\n",
       "        }    #T_3f113a5c_e5f2_11e9_8c11_55ce79eb3376row4_col6 {\n",
       "            background-color:  #cc403a;\n",
       "            color:  #f1f1f1;\n",
       "        }    #T_3f113a5c_e5f2_11e9_8c11_55ce79eb3376row4_col7 {\n",
       "            background-color:  #6f92f3;\n",
       "            color:  #000000;\n",
       "        }    #T_3f113a5c_e5f2_11e9_8c11_55ce79eb3376row5_col0 {\n",
       "            background-color:  #3b4cc0;\n",
       "            color:  #f1f1f1;\n",
       "        }    #T_3f113a5c_e5f2_11e9_8c11_55ce79eb3376row5_col1 {\n",
       "            background-color:  #3b4cc0;\n",
       "            color:  #f1f1f1;\n",
       "        }    #T_3f113a5c_e5f2_11e9_8c11_55ce79eb3376row5_col2 {\n",
       "            background-color:  #ccd9ed;\n",
       "            color:  #000000;\n",
       "        }    #T_3f113a5c_e5f2_11e9_8c11_55ce79eb3376row5_col3 {\n",
       "            background-color:  #5875e1;\n",
       "            color:  #000000;\n",
       "        }    #T_3f113a5c_e5f2_11e9_8c11_55ce79eb3376row5_col4 {\n",
       "            background-color:  #3b4cc0;\n",
       "            color:  #f1f1f1;\n",
       "        }    #T_3f113a5c_e5f2_11e9_8c11_55ce79eb3376row5_col5 {\n",
       "            background-color:  #b40426;\n",
       "            color:  #f1f1f1;\n",
       "        }    #T_3f113a5c_e5f2_11e9_8c11_55ce79eb3376row5_col6 {\n",
       "            background-color:  #3b4cc0;\n",
       "            color:  #f1f1f1;\n",
       "        }    #T_3f113a5c_e5f2_11e9_8c11_55ce79eb3376row5_col7 {\n",
       "            background-color:  #b3cdfb;\n",
       "            color:  #000000;\n",
       "        }    #T_3f113a5c_e5f2_11e9_8c11_55ce79eb3376row6_col0 {\n",
       "            background-color:  #f7ad90;\n",
       "            color:  #000000;\n",
       "        }    #T_3f113a5c_e5f2_11e9_8c11_55ce79eb3376row6_col1 {\n",
       "            background-color:  #3f53c6;\n",
       "            color:  #f1f1f1;\n",
       "        }    #T_3f113a5c_e5f2_11e9_8c11_55ce79eb3376row6_col2 {\n",
       "            background-color:  #4b64d5;\n",
       "            color:  #f1f1f1;\n",
       "        }    #T_3f113a5c_e5f2_11e9_8c11_55ce79eb3376row6_col3 {\n",
       "            background-color:  #f6bda2;\n",
       "            color:  #000000;\n",
       "        }    #T_3f113a5c_e5f2_11e9_8c11_55ce79eb3376row6_col4 {\n",
       "            background-color:  #cd423b;\n",
       "            color:  #f1f1f1;\n",
       "        }    #T_3f113a5c_e5f2_11e9_8c11_55ce79eb3376row6_col5 {\n",
       "            background-color:  #4c66d6;\n",
       "            color:  #000000;\n",
       "        }    #T_3f113a5c_e5f2_11e9_8c11_55ce79eb3376row6_col6 {\n",
       "            background-color:  #b40426;\n",
       "            color:  #f1f1f1;\n",
       "        }    #T_3f113a5c_e5f2_11e9_8c11_55ce79eb3376row6_col7 {\n",
       "            background-color:  #4257c9;\n",
       "            color:  #f1f1f1;\n",
       "        }    #T_3f113a5c_e5f2_11e9_8c11_55ce79eb3376row7_col0 {\n",
       "            background-color:  #80a3fa;\n",
       "            color:  #000000;\n",
       "        }    #T_3f113a5c_e5f2_11e9_8c11_55ce79eb3376row7_col1 {\n",
       "            background-color:  #4e68d8;\n",
       "            color:  #000000;\n",
       "        }    #T_3f113a5c_e5f2_11e9_8c11_55ce79eb3376row7_col2 {\n",
       "            background-color:  #b1cbfc;\n",
       "            color:  #000000;\n",
       "        }    #T_3f113a5c_e5f2_11e9_8c11_55ce79eb3376row7_col3 {\n",
       "            background-color:  #bbd1f8;\n",
       "            color:  #000000;\n",
       "        }    #T_3f113a5c_e5f2_11e9_8c11_55ce79eb3376row7_col4 {\n",
       "            background-color:  #88abfd;\n",
       "            color:  #000000;\n",
       "        }    #T_3f113a5c_e5f2_11e9_8c11_55ce79eb3376row7_col5 {\n",
       "            background-color:  #dbdcde;\n",
       "            color:  #000000;\n",
       "        }    #T_3f113a5c_e5f2_11e9_8c11_55ce79eb3376row7_col6 {\n",
       "            background-color:  #7396f5;\n",
       "            color:  #000000;\n",
       "        }    #T_3f113a5c_e5f2_11e9_8c11_55ce79eb3376row7_col7 {\n",
       "            background-color:  #b40426;\n",
       "            color:  #f1f1f1;\n",
       "        }</style><table id=\"T_3f113a5c_e5f2_11e9_8c11_55ce79eb3376\" ><thead>    <tr>        <th class=\"blank level0\" ></th>        <th class=\"col_heading level0 col0\" >Channel</th>        <th class=\"col_heading level0 col1\" >Region</th>        <th class=\"col_heading level0 col2\" >Fresh</th>        <th class=\"col_heading level0 col3\" >Milk</th>        <th class=\"col_heading level0 col4\" >Grocery</th>        <th class=\"col_heading level0 col5\" >Frozen</th>        <th class=\"col_heading level0 col6\" >Detergents_Paper</th>        <th class=\"col_heading level0 col7\" >Delicassen</th>    </tr></thead><tbody>\n",
       "                <tr>\n",
       "                        <th id=\"T_3f113a5c_e5f2_11e9_8c11_55ce79eb3376level0_row0\" class=\"row_heading level0 row0\" >Channel</th>\n",
       "                        <td id=\"T_3f113a5c_e5f2_11e9_8c11_55ce79eb3376row0_col0\" class=\"data row0 col0\" >1</td>\n",
       "                        <td id=\"T_3f113a5c_e5f2_11e9_8c11_55ce79eb3376row0_col1\" class=\"data row0 col1\" >0.0620276</td>\n",
       "                        <td id=\"T_3f113a5c_e5f2_11e9_8c11_55ce79eb3376row0_col2\" class=\"data row0 col2\" >-0.169172</td>\n",
       "                        <td id=\"T_3f113a5c_e5f2_11e9_8c11_55ce79eb3376row0_col3\" class=\"data row0 col3\" >0.46072</td>\n",
       "                        <td id=\"T_3f113a5c_e5f2_11e9_8c11_55ce79eb3376row0_col4\" class=\"data row0 col4\" >0.608792</td>\n",
       "                        <td id=\"T_3f113a5c_e5f2_11e9_8c11_55ce79eb3376row0_col5\" class=\"data row0 col5\" >-0.202046</td>\n",
       "                        <td id=\"T_3f113a5c_e5f2_11e9_8c11_55ce79eb3376row0_col6\" class=\"data row0 col6\" >0.636026</td>\n",
       "                        <td id=\"T_3f113a5c_e5f2_11e9_8c11_55ce79eb3376row0_col7\" class=\"data row0 col7\" >0.0560114</td>\n",
       "            </tr>\n",
       "            <tr>\n",
       "                        <th id=\"T_3f113a5c_e5f2_11e9_8c11_55ce79eb3376level0_row1\" class=\"row_heading level0 row1\" >Region</th>\n",
       "                        <td id=\"T_3f113a5c_e5f2_11e9_8c11_55ce79eb3376row1_col0\" class=\"data row1 col0\" >0.0620276</td>\n",
       "                        <td id=\"T_3f113a5c_e5f2_11e9_8c11_55ce79eb3376row1_col1\" class=\"data row1 col1\" >1</td>\n",
       "                        <td id=\"T_3f113a5c_e5f2_11e9_8c11_55ce79eb3376row1_col2\" class=\"data row1 col2\" >0.0552869</td>\n",
       "                        <td id=\"T_3f113a5c_e5f2_11e9_8c11_55ce79eb3376row1_col3\" class=\"data row1 col3\" >0.0322875</td>\n",
       "                        <td id=\"T_3f113a5c_e5f2_11e9_8c11_55ce79eb3376row1_col4\" class=\"data row1 col4\" >0.00769578</td>\n",
       "                        <td id=\"T_3f113a5c_e5f2_11e9_8c11_55ce79eb3376row1_col5\" class=\"data row1 col5\" >-0.0210442</td>\n",
       "                        <td id=\"T_3f113a5c_e5f2_11e9_8c11_55ce79eb3376row1_col6\" class=\"data row1 col6\" >-0.00148269</td>\n",
       "                        <td id=\"T_3f113a5c_e5f2_11e9_8c11_55ce79eb3376row1_col7\" class=\"data row1 col7\" >0.0452121</td>\n",
       "            </tr>\n",
       "            <tr>\n",
       "                        <th id=\"T_3f113a5c_e5f2_11e9_8c11_55ce79eb3376level0_row2\" class=\"row_heading level0 row2\" >Fresh</th>\n",
       "                        <td id=\"T_3f113a5c_e5f2_11e9_8c11_55ce79eb3376row2_col0\" class=\"data row2 col0\" >-0.169172</td>\n",
       "                        <td id=\"T_3f113a5c_e5f2_11e9_8c11_55ce79eb3376row2_col1\" class=\"data row2 col1\" >0.0552869</td>\n",
       "                        <td id=\"T_3f113a5c_e5f2_11e9_8c11_55ce79eb3376row2_col2\" class=\"data row2 col2\" >1</td>\n",
       "                        <td id=\"T_3f113a5c_e5f2_11e9_8c11_55ce79eb3376row2_col3\" class=\"data row2 col3\" >0.10051</td>\n",
       "                        <td id=\"T_3f113a5c_e5f2_11e9_8c11_55ce79eb3376row2_col4\" class=\"data row2 col4\" >-0.0118539</td>\n",
       "                        <td id=\"T_3f113a5c_e5f2_11e9_8c11_55ce79eb3376row2_col5\" class=\"data row2 col5\" >0.345881</td>\n",
       "                        <td id=\"T_3f113a5c_e5f2_11e9_8c11_55ce79eb3376row2_col6\" class=\"data row2 col6\" >-0.101953</td>\n",
       "                        <td id=\"T_3f113a5c_e5f2_11e9_8c11_55ce79eb3376row2_col7\" class=\"data row2 col7\" >0.24469</td>\n",
       "            </tr>\n",
       "            <tr>\n",
       "                        <th id=\"T_3f113a5c_e5f2_11e9_8c11_55ce79eb3376level0_row3\" class=\"row_heading level0 row3\" >Milk</th>\n",
       "                        <td id=\"T_3f113a5c_e5f2_11e9_8c11_55ce79eb3376row3_col0\" class=\"data row3 col0\" >0.46072</td>\n",
       "                        <td id=\"T_3f113a5c_e5f2_11e9_8c11_55ce79eb3376row3_col1\" class=\"data row3 col1\" >0.0322875</td>\n",
       "                        <td id=\"T_3f113a5c_e5f2_11e9_8c11_55ce79eb3376row3_col2\" class=\"data row3 col2\" >0.10051</td>\n",
       "                        <td id=\"T_3f113a5c_e5f2_11e9_8c11_55ce79eb3376row3_col3\" class=\"data row3 col3\" >1</td>\n",
       "                        <td id=\"T_3f113a5c_e5f2_11e9_8c11_55ce79eb3376row3_col4\" class=\"data row3 col4\" >0.728335</td>\n",
       "                        <td id=\"T_3f113a5c_e5f2_11e9_8c11_55ce79eb3376row3_col5\" class=\"data row3 col5\" >0.123994</td>\n",
       "                        <td id=\"T_3f113a5c_e5f2_11e9_8c11_55ce79eb3376row3_col6\" class=\"data row3 col6\" >0.661816</td>\n",
       "                        <td id=\"T_3f113a5c_e5f2_11e9_8c11_55ce79eb3376row3_col7\" class=\"data row3 col7\" >0.406368</td>\n",
       "            </tr>\n",
       "            <tr>\n",
       "                        <th id=\"T_3f113a5c_e5f2_11e9_8c11_55ce79eb3376level0_row4\" class=\"row_heading level0 row4\" >Grocery</th>\n",
       "                        <td id=\"T_3f113a5c_e5f2_11e9_8c11_55ce79eb3376row4_col0\" class=\"data row4 col0\" >0.608792</td>\n",
       "                        <td id=\"T_3f113a5c_e5f2_11e9_8c11_55ce79eb3376row4_col1\" class=\"data row4 col1\" >0.00769578</td>\n",
       "                        <td id=\"T_3f113a5c_e5f2_11e9_8c11_55ce79eb3376row4_col2\" class=\"data row4 col2\" >-0.0118539</td>\n",
       "                        <td id=\"T_3f113a5c_e5f2_11e9_8c11_55ce79eb3376row4_col3\" class=\"data row4 col3\" >0.728335</td>\n",
       "                        <td id=\"T_3f113a5c_e5f2_11e9_8c11_55ce79eb3376row4_col4\" class=\"data row4 col4\" >1</td>\n",
       "                        <td id=\"T_3f113a5c_e5f2_11e9_8c11_55ce79eb3376row4_col5\" class=\"data row4 col5\" >-0.0401927</td>\n",
       "                        <td id=\"T_3f113a5c_e5f2_11e9_8c11_55ce79eb3376row4_col6\" class=\"data row4 col6\" >0.924641</td>\n",
       "                        <td id=\"T_3f113a5c_e5f2_11e9_8c11_55ce79eb3376row4_col7\" class=\"data row4 col7\" >0.205497</td>\n",
       "            </tr>\n",
       "            <tr>\n",
       "                        <th id=\"T_3f113a5c_e5f2_11e9_8c11_55ce79eb3376level0_row5\" class=\"row_heading level0 row5\" >Frozen</th>\n",
       "                        <td id=\"T_3f113a5c_e5f2_11e9_8c11_55ce79eb3376row5_col0\" class=\"data row5 col0\" >-0.202046</td>\n",
       "                        <td id=\"T_3f113a5c_e5f2_11e9_8c11_55ce79eb3376row5_col1\" class=\"data row5 col1\" >-0.0210442</td>\n",
       "                        <td id=\"T_3f113a5c_e5f2_11e9_8c11_55ce79eb3376row5_col2\" class=\"data row5 col2\" >0.345881</td>\n",
       "                        <td id=\"T_3f113a5c_e5f2_11e9_8c11_55ce79eb3376row5_col3\" class=\"data row5 col3\" >0.123994</td>\n",
       "                        <td id=\"T_3f113a5c_e5f2_11e9_8c11_55ce79eb3376row5_col4\" class=\"data row5 col4\" >-0.0401927</td>\n",
       "                        <td id=\"T_3f113a5c_e5f2_11e9_8c11_55ce79eb3376row5_col5\" class=\"data row5 col5\" >1</td>\n",
       "                        <td id=\"T_3f113a5c_e5f2_11e9_8c11_55ce79eb3376row5_col6\" class=\"data row5 col6\" >-0.131525</td>\n",
       "                        <td id=\"T_3f113a5c_e5f2_11e9_8c11_55ce79eb3376row5_col7\" class=\"data row5 col7\" >0.390947</td>\n",
       "            </tr>\n",
       "            <tr>\n",
       "                        <th id=\"T_3f113a5c_e5f2_11e9_8c11_55ce79eb3376level0_row6\" class=\"row_heading level0 row6\" >Detergents_Paper</th>\n",
       "                        <td id=\"T_3f113a5c_e5f2_11e9_8c11_55ce79eb3376row6_col0\" class=\"data row6 col0\" >0.636026</td>\n",
       "                        <td id=\"T_3f113a5c_e5f2_11e9_8c11_55ce79eb3376row6_col1\" class=\"data row6 col1\" >-0.00148269</td>\n",
       "                        <td id=\"T_3f113a5c_e5f2_11e9_8c11_55ce79eb3376row6_col2\" class=\"data row6 col2\" >-0.101953</td>\n",
       "                        <td id=\"T_3f113a5c_e5f2_11e9_8c11_55ce79eb3376row6_col3\" class=\"data row6 col3\" >0.661816</td>\n",
       "                        <td id=\"T_3f113a5c_e5f2_11e9_8c11_55ce79eb3376row6_col4\" class=\"data row6 col4\" >0.924641</td>\n",
       "                        <td id=\"T_3f113a5c_e5f2_11e9_8c11_55ce79eb3376row6_col5\" class=\"data row6 col5\" >-0.131525</td>\n",
       "                        <td id=\"T_3f113a5c_e5f2_11e9_8c11_55ce79eb3376row6_col6\" class=\"data row6 col6\" >1</td>\n",
       "                        <td id=\"T_3f113a5c_e5f2_11e9_8c11_55ce79eb3376row6_col7\" class=\"data row6 col7\" >0.0692913</td>\n",
       "            </tr>\n",
       "            <tr>\n",
       "                        <th id=\"T_3f113a5c_e5f2_11e9_8c11_55ce79eb3376level0_row7\" class=\"row_heading level0 row7\" >Delicassen</th>\n",
       "                        <td id=\"T_3f113a5c_e5f2_11e9_8c11_55ce79eb3376row7_col0\" class=\"data row7 col0\" >0.0560114</td>\n",
       "                        <td id=\"T_3f113a5c_e5f2_11e9_8c11_55ce79eb3376row7_col1\" class=\"data row7 col1\" >0.0452121</td>\n",
       "                        <td id=\"T_3f113a5c_e5f2_11e9_8c11_55ce79eb3376row7_col2\" class=\"data row7 col2\" >0.24469</td>\n",
       "                        <td id=\"T_3f113a5c_e5f2_11e9_8c11_55ce79eb3376row7_col3\" class=\"data row7 col3\" >0.406368</td>\n",
       "                        <td id=\"T_3f113a5c_e5f2_11e9_8c11_55ce79eb3376row7_col4\" class=\"data row7 col4\" >0.205497</td>\n",
       "                        <td id=\"T_3f113a5c_e5f2_11e9_8c11_55ce79eb3376row7_col5\" class=\"data row7 col5\" >0.390947</td>\n",
       "                        <td id=\"T_3f113a5c_e5f2_11e9_8c11_55ce79eb3376row7_col6\" class=\"data row7 col6\" >0.0692913</td>\n",
       "                        <td id=\"T_3f113a5c_e5f2_11e9_8c11_55ce79eb3376row7_col7\" class=\"data row7 col7\" >1</td>\n",
       "            </tr>\n",
       "    </tbody></table>"
      ],
      "text/plain": [
       "<pandas.io.formats.style.Styler at 0x7f7677b1c710>"
      ]
     },
     "execution_count": 57,
     "metadata": {},
     "output_type": "execute_result"
    }
   ],
   "source": [
    "corr = customers.corr()\n",
    "\n",
    "corr.style.background_gradient(cmap='coolwarm')"
   ]
  },
  {
   "cell_type": "code",
   "execution_count": 58,
   "metadata": {},
   "outputs": [],
   "source": [
    "from scipy.stats import skewnorm\n",
    "import matplotlib.pyplot as plt"
   ]
  },
  {
   "cell_type": "code",
   "execution_count": null,
   "metadata": {},
   "outputs": [],
   "source": [
    "# Your observations here"
   ]
  },
  {
   "cell_type": "markdown",
   "metadata": {},
   "source": [
    "# Challenge 2 - Data Cleaning and Transformation\n",
    "\n",
    "If your conclusion from the previous challenge is the data need cleaning/transformation, do it in the cells below. However, if your conclusion is the data need not be cleaned or transformed, feel free to skip this challenge. But if you do choose the latter, please provide rationale."
   ]
  },
  {
   "cell_type": "code",
   "execution_count": null,
   "metadata": {},
   "outputs": [],
   "source": [
    "# Your code here"
   ]
  },
  {
   "cell_type": "code",
   "execution_count": null,
   "metadata": {},
   "outputs": [],
   "source": [
    "# Your comment here"
   ]
  },
  {
   "cell_type": "markdown",
   "metadata": {},
   "source": [
    "# Challenge 3 - Data Preprocessing\n",
    "\n",
    "One problem with the dataset is the value ranges are remarkably different across various categories (e.g. `Fresh` and `Grocery` compared to `Detergents_Paper` and `Delicassen`). If you made this observation in the first challenge, you've done a great job! This means you not only completed the bonus questions in the previous Supervised Learning lab but also researched deep into [*feature scaling*](https://en.wikipedia.org/wiki/Feature_scaling). Keep on the good work!\n",
    "\n",
    "Diverse value ranges in different features could cause issues in our clustering. The way to reduce the problem is through feature scaling. We'll use this technique again with this dataset.\n",
    "\n",
    "#### We will use the `StandardScaler` from `sklearn.preprocessing` and scale our data. Read more about `StandardScaler` [here](https://scikit-learn.org/stable/modules/generated/sklearn.preprocessing.StandardScaler.html#sklearn.preprocessing.StandardScaler).\n",
    "\n",
    "*After scaling your data, assign the transformed data to a new variable `customers_scale`.*"
   ]
  },
  {
   "cell_type": "code",
   "execution_count": null,
   "metadata": {},
   "outputs": [],
   "source": [
    "# Your import here:\n",
    "\n",
    "from sklearn.preprocessing import StandardScaler\n",
    "\n",
    "# Your code here:\n"
   ]
  },
  {
   "cell_type": "markdown",
   "metadata": {},
   "source": [
    "# Challenge 3 - Data Clustering with K-Means\n",
    "\n",
    "Now let's cluster the data with K-Means first. Initiate the K-Means model, then fit your scaled data. In the data returned from the `.fit` method, there is an attribute called `labels_` which is the cluster number assigned to each data record. What you can do is to assign these labels back to `customers` in a new column called `customers['labels']`. Then you'll see the cluster results of the original data."
   ]
  },
  {
   "cell_type": "code",
   "execution_count": null,
   "metadata": {
    "scrolled": true
   },
   "outputs": [],
   "source": [
    "# Your code here:\n"
   ]
  },
  {
   "cell_type": "markdown",
   "metadata": {},
   "source": [
    "Count the values in `labels`."
   ]
  },
  {
   "cell_type": "code",
   "execution_count": null,
   "metadata": {},
   "outputs": [],
   "source": [
    "# Your code here:\n"
   ]
  },
  {
   "cell_type": "markdown",
   "metadata": {},
   "source": [
    "# Challenge 4 - Data Clustering with DBSCAN\n",
    "\n",
    "Now let's cluster the data using DBSCAN. Use `DBSCAN(eps=0.5)` to initiate the model, then fit your scaled data. In the data returned from the `.fit` method, assign the `labels_` back to `customers['labels_DBSCAN']`. Now your original data have two labels, one from K-Means and the other from DBSCAN."
   ]
  },
  {
   "cell_type": "code",
   "execution_count": null,
   "metadata": {
    "scrolled": true
   },
   "outputs": [],
   "source": [
    "# Your code here\n"
   ]
  },
  {
   "cell_type": "markdown",
   "metadata": {},
   "source": [
    "Count the values in `labels_DBSCAN`."
   ]
  },
  {
   "cell_type": "code",
   "execution_count": null,
   "metadata": {},
   "outputs": [],
   "source": [
    "# Your code here\n"
   ]
  },
  {
   "cell_type": "markdown",
   "metadata": {},
   "source": [
    "# Challenge 5 - Compare K-Means with DBSCAN\n",
    "\n",
    "Now we want to visually compare how K-Means and DBSCAN have clustered our data. We will create scatter plots for several columns. For each of the following column pairs, plot a scatter plot using `labels` and another using `labels_DBSCAN`. Put them side by side to compare. Which clustering algorithm makes better sense?\n",
    "\n",
    "Columns to visualize:\n",
    "\n",
    "* `Detergents_Paper` as X and `Milk` as y\n",
    "* `Grocery` as X and `Fresh` as y\n",
    "* `Frozen` as X and `Delicassen` as y"
   ]
  },
  {
   "cell_type": "markdown",
   "metadata": {},
   "source": [
    "Visualize `Detergents_Paper` as X and `Milk` as y by `labels` and `labels_DBSCAN` respectively"
   ]
  },
  {
   "cell_type": "code",
   "execution_count": null,
   "metadata": {},
   "outputs": [],
   "source": [
    "# Your code here:\n"
   ]
  },
  {
   "cell_type": "markdown",
   "metadata": {},
   "source": [
    "Visualize `Grocery` as X and `Fresh` as y by `labels` and `labels_DBSCAN` respectively"
   ]
  },
  {
   "cell_type": "code",
   "execution_count": null,
   "metadata": {},
   "outputs": [],
   "source": [
    "# Your code here:\n"
   ]
  },
  {
   "cell_type": "markdown",
   "metadata": {},
   "source": [
    "Visualize `Frozen` as X and `Delicassen` as y by `labels` and `labels_DBSCAN` respectively"
   ]
  },
  {
   "cell_type": "code",
   "execution_count": null,
   "metadata": {},
   "outputs": [],
   "source": [
    "# Your code here:"
   ]
  },
  {
   "cell_type": "markdown",
   "metadata": {},
   "source": [
    "Let's use a groupby to see how the mean differs between the groups. Group `customers` by `labels` and `labels_DBSCAN` respectively and compute the means for all columns."
   ]
  },
  {
   "cell_type": "code",
   "execution_count": null,
   "metadata": {},
   "outputs": [],
   "source": [
    "# Your code here:\n"
   ]
  },
  {
   "cell_type": "markdown",
   "metadata": {},
   "source": [
    "Which algorithm appears to perform better?"
   ]
  },
  {
   "cell_type": "code",
   "execution_count": null,
   "metadata": {},
   "outputs": [],
   "source": [
    "# Your observations here"
   ]
  },
  {
   "cell_type": "markdown",
   "metadata": {},
   "source": [
    "# Bonus Challenge 2 - Changing K-Means Number of Clusters\n",
    "\n",
    "As we mentioned earlier, we don't need to worry about the number of clusters with DBSCAN because it automatically decides that based on the parameters we send to it. But with K-Means, we have to supply the `n_clusters` param (if you don't supply `n_clusters`, the algorithm will use `8` by default). You need to know that the optimal number of clusters differs case by case based on the dataset. K-Means can perform badly if the wrong number of clusters is used.\n",
    "\n",
    "In advanced machine learning, data scientists try different numbers of clusters and evaluate the results with statistical measures (read [here](https://en.wikipedia.org/wiki/Cluster_analysis#External_evaluation)). We are not using statistical measures today but we'll use our eyes instead. In the cells below, experiment with different number of clusters and visualize with scatter plots. What number of clusters seems to work best for K-Means?"
   ]
  },
  {
   "cell_type": "code",
   "execution_count": null,
   "metadata": {},
   "outputs": [],
   "source": [
    "# Your code here"
   ]
  },
  {
   "cell_type": "code",
   "execution_count": null,
   "metadata": {},
   "outputs": [],
   "source": [
    "# Your comment here"
   ]
  },
  {
   "cell_type": "markdown",
   "metadata": {},
   "source": [
    "# Bonus Challenge 3 - Changing DBSCAN `eps` and `min_samples`\n",
    "\n",
    "Experiment changing the `eps` and `min_samples` params for DBSCAN. See how the results differ with scatter plot visualization."
   ]
  },
  {
   "cell_type": "code",
   "execution_count": null,
   "metadata": {},
   "outputs": [],
   "source": [
    "# Your code here"
   ]
  },
  {
   "cell_type": "code",
   "execution_count": null,
   "metadata": {},
   "outputs": [],
   "source": [
    "# Your comment here"
   ]
  }
 ],
 "metadata": {
  "kernelspec": {
   "display_name": "Python 3",
   "language": "python",
   "name": "python3"
  },
  "language_info": {
   "codemirror_mode": {
    "name": "ipython",
    "version": 3
   },
   "file_extension": ".py",
   "mimetype": "text/x-python",
   "name": "python",
   "nbconvert_exporter": "python",
   "pygments_lexer": "ipython3",
   "version": "3.7.3"
  }
 },
 "nbformat": 4,
 "nbformat_minor": 2
}

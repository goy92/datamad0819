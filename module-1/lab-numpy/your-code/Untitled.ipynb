{
 "cells": [
  {
   "cell_type": "code",
   "execution_count": 7,
   "metadata": {},
   "outputs": [],
   "source": [
    "import numpy as np"
   ]
  },
  {
   "cell_type": "code",
   "execution_count": 11,
   "metadata": {},
   "outputs": [
    {
     "name": "stdout",
     "output_type": "stream",
     "text": [
      "1.17.0\n"
     ]
    }
   ],
   "source": [
    "print(pd.version.version)"
   ]
  },
  {
   "cell_type": "code",
   "execution_count": 12,
   "metadata": {},
   "outputs": [],
   "source": [
    "a = np.random.random((2,3,5))"
   ]
  },
  {
   "cell_type": "code",
   "execution_count": 13,
   "metadata": {},
   "outputs": [
    {
     "name": "stdout",
     "output_type": "stream",
     "text": [
      "[[[0.01910079 0.34465643 0.91557472 0.29428571 0.65402217]\n",
      "  [0.69738362 0.5812739  0.53137307 0.64452882 0.89751593]\n",
      "  [0.22063627 0.95818954 0.86903853 0.51328683 0.56124278]]\n",
      "\n",
      " [[0.04590673 0.67023252 0.21115663 0.69115486 0.87878041]\n",
      "  [0.9967742  0.67031878 0.89158608 0.05074504 0.23630334]\n",
      "  [0.37622939 0.36070351 0.05100876 0.27445099 0.69685116]]]\n"
     ]
    }
   ],
   "source": [
    "print(a)"
   ]
  },
  {
   "cell_type": "code",
   "execution_count": 21,
   "metadata": {},
   "outputs": [],
   "source": [
    "b = np.ones((5,2,3))"
   ]
  },
  {
   "cell_type": "code",
   "execution_count": 22,
   "metadata": {},
   "outputs": [
    {
     "name": "stdout",
     "output_type": "stream",
     "text": [
      "[[[1. 1. 1.]\n",
      "  [1. 1. 1.]]\n",
      "\n",
      " [[1. 1. 1.]\n",
      "  [1. 1. 1.]]\n",
      "\n",
      " [[1. 1. 1.]\n",
      "  [1. 1. 1.]]\n",
      "\n",
      " [[1. 1. 1.]\n",
      "  [1. 1. 1.]]\n",
      "\n",
      " [[1. 1. 1.]\n",
      "  [1. 1. 1.]]]\n"
     ]
    }
   ],
   "source": [
    "print(b)"
   ]
  },
  {
   "cell_type": "code",
   "execution_count": 31,
   "metadata": {},
   "outputs": [
    {
     "data": {
      "text/plain": [
       "(2, 3)"
      ]
     },
     "execution_count": 31,
     "metadata": {},
     "output_type": "execute_result"
    }
   ],
   "source": [
    "d = ([5,2,3], [2,3,5])\n",
    "np.shape(d)"
   ]
  },
  {
   "cell_type": "code",
   "execution_count": 34,
   "metadata": {},
   "outputs": [
    {
     "name": "stdout",
     "output_type": "stream",
     "text": [
      "[[[1. 1. 1. 1. 1.]\n",
      "  [1. 1. 1. 1. 1.]\n",
      "  [1. 1. 1. 1. 1.]]\n",
      "\n",
      " [[1. 1. 1. 1. 1.]\n",
      "  [1. 1. 1. 1. 1.]\n",
      "  [1. 1. 1. 1. 1.]]]\n"
     ]
    }
   ],
   "source": [
    "c=b.reshape(2,3,5)\n",
    "print(c)\n"
   ]
  },
  {
   "cell_type": "code",
   "execution_count": 37,
   "metadata": {},
   "outputs": [
    {
     "name": "stdout",
     "output_type": "stream",
     "text": [
      "[[[1.01910079 1.34465643 1.91557472 1.29428571 1.65402217]\n",
      "  [1.69738362 1.5812739  1.53137307 1.64452882 1.89751593]\n",
      "  [1.22063627 1.95818954 1.86903853 1.51328683 1.56124278]]\n",
      "\n",
      " [[1.04590673 1.67023252 1.21115663 1.69115486 1.87878041]\n",
      "  [1.9967742  1.67031878 1.89158608 1.05074504 1.23630334]\n",
      "  [1.37622939 1.36070351 1.05100876 1.27445099 1.69685116]]]\n"
     ]
    }
   ],
   "source": [
    "d =a + c\n",
    "print(d)"
   ]
  },
  {
   "cell_type": "code",
   "execution_count": 38,
   "metadata": {},
   "outputs": [
    {
     "name": "stdout",
     "output_type": "stream",
     "text": [
      "[[[1.03820159 1.68931287 2.83114944 1.58857141 2.30804434]\n",
      "  [2.39476724 2.16254781 2.06274614 2.28905764 2.79503185]\n",
      "  [1.44127253 2.91637908 2.73807706 2.02657367 2.12248556]]\n",
      "\n",
      " [[1.09181347 2.34046504 1.42231327 2.38230971 2.75756081]\n",
      "  [2.9935484  2.34063755 2.78317217 1.10149008 1.47260668]\n",
      "  [1.75245877 1.72140702 1.10201752 1.54890197 2.39370232]]]\n"
     ]
    }
   ],
   "source": [
    "f = d + a\n",
    "print(f)"
   ]
  },
  {
   "cell_type": "code",
   "execution_count": 39,
   "metadata": {},
   "outputs": [
    {
     "name": "stdout",
     "output_type": "stream",
     "text": [
      "[[[0.01910079 0.34465643 0.91557472 0.29428571 0.65402217]\n",
      "  [0.69738362 0.5812739  0.53137307 0.64452882 0.89751593]\n",
      "  [0.22063627 0.95818954 0.86903853 0.51328683 0.56124278]]\n",
      "\n",
      " [[0.04590673 0.67023252 0.21115663 0.69115486 0.87878041]\n",
      "  [0.9967742  0.67031878 0.89158608 0.05074504 0.23630334]\n",
      "  [0.37622939 0.36070351 0.05100876 0.27445099 0.69685116]]]\n"
     ]
    }
   ],
   "source": [
    "e = a * c\n",
    "print(e)"
   ]
  },
  {
   "cell_type": "code",
   "execution_count": 40,
   "metadata": {},
   "outputs": [
    {
     "name": "stdout",
     "output_type": "stream",
     "text": [
      "[[[0.01910079 0.34465643 0.91557472 0.29428571 0.65402217]\n",
      "  [0.69738362 0.5812739  0.53137307 0.64452882 0.89751593]\n",
      "  [0.22063627 0.95818954 0.86903853 0.51328683 0.56124278]]\n",
      "\n",
      " [[0.04590673 0.67023252 0.21115663 0.69115486 0.87878041]\n",
      "  [0.9967742  0.67031878 0.89158608 0.05074504 0.23630334]\n",
      "  [0.37622939 0.36070351 0.05100876 0.27445099 0.69685116]]]\n"
     ]
    }
   ],
   "source": [
    "print(a)\n"
   ]
  },
  {
   "cell_type": "code",
   "execution_count": 49,
   "metadata": {},
   "outputs": [
    {
     "name": "stdout",
     "output_type": "stream",
     "text": [
      "1.9967741980519902\n",
      "1.0191007938758336\n",
      "1.5268103833394666\n"
     ]
    }
   ],
   "source": [
    "print(d.max())\n",
    "print(d.min())\n",
    "print(d.mean())\n"
   ]
  },
  {
   "cell_type": "code",
   "execution_count": null,
   "metadata": {},
   "outputs": [],
   "source": []
  }
 ],
 "metadata": {
  "kernelspec": {
   "display_name": "Python 3",
   "language": "python",
   "name": "python3"
  },
  "language_info": {
   "codemirror_mode": {
    "name": "ipython",
    "version": 3
   },
   "file_extension": ".py",
   "mimetype": "text/x-python",
   "name": "python",
   "nbconvert_exporter": "python",
   "pygments_lexer": "ipython3",
   "version": "3.7.3"
  }
 },
 "nbformat": 4,
 "nbformat_minor": 2
}
